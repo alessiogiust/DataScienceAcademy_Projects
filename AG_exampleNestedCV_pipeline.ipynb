{
 "cells": [
  {
   "cell_type": "markdown",
   "metadata": {},
   "source": [
    "## Australian rain dataset"
   ]
  },
  {
   "cell_type": "code",
   "execution_count": 59,
   "metadata": {},
   "outputs": [],
   "source": [
    "import pandas as pd\n",
    "import numpy as np\n",
    "import seaborn as sns\n",
    "import matplotlib.pyplot as plt\n",
    "sns.set()"
   ]
  },
  {
   "cell_type": "code",
   "execution_count": 60,
   "metadata": {},
   "outputs": [
    {
     "name": "stdout",
     "output_type": "stream",
     "text": [
      "Shape: (145460, 23)\n",
      "Shape dropping all missing values: (56420, 23)\n",
      "-------------------------------------------\n",
      "List of columns: ['Date', 'Location', 'MinTemp', 'MaxTemp', 'Rainfall', 'Evaporation', 'Sunshine', 'WindGustDir', 'WindGustSpeed', 'WindDir9am', 'WindDir3pm', 'WindSpeed9am', 'WindSpeed3pm', 'Humidity9am', 'Humidity3pm', 'Pressure9am', 'Pressure3pm', 'Cloud9am', 'Cloud3pm', 'Temp9am', 'Temp3pm', 'RainToday', 'RainTomorrow']\n"
     ]
    }
   ],
   "source": [
    "df = pd.read_csv(\"dataML/weatherAUS.csv\")\n",
    "print(f\"Shape: {df.shape}\")\n",
    "print(f\"Shape dropping all missing values: {df.dropna().shape}\")\n",
    "print(\"-------------------------------------------\")\n",
    "print(f\"List of columns: {list(df.columns)}\")"
   ]
  },
  {
   "cell_type": "code",
   "execution_count": 4,
   "metadata": {},
   "outputs": [
    {
     "name": "stdout",
     "output_type": "stream",
     "text": [
      "Types of variables:\n",
      "Date              object\n",
      "Location          object\n",
      "MinTemp          float64\n",
      "MaxTemp          float64\n",
      "Rainfall         float64\n",
      "Evaporation      float64\n",
      "Sunshine         float64\n",
      "WindGustDir       object\n",
      "WindGustSpeed    float64\n",
      "WindDir9am        object\n",
      "WindDir3pm        object\n",
      "WindSpeed9am     float64\n",
      "WindSpeed3pm     float64\n",
      "Humidity9am      float64\n",
      "Humidity3pm      float64\n",
      "Pressure9am      float64\n",
      "Pressure3pm      float64\n",
      "Cloud9am         float64\n",
      "Cloud3pm         float64\n",
      "Temp9am          float64\n",
      "Temp3pm          float64\n",
      "RainToday         object\n",
      "RainTomorrow      object\n",
      "dtype: object\n"
     ]
    }
   ],
   "source": [
    "print(\"Types of variables:\")\n",
    "print(df.dtypes)"
   ]
  },
  {
   "cell_type": "code",
   "execution_count": 61,
   "metadata": {},
   "outputs": [
    {
     "name": "stdout",
     "output_type": "stream",
     "text": [
      "Missing values:\n",
      "Date                 0\n",
      "Location             0\n",
      "MinTemp           1485\n",
      "MaxTemp           1261\n",
      "Rainfall          3261\n",
      "Evaporation      62790\n",
      "Sunshine         69835\n",
      "WindGustDir      10326\n",
      "WindGustSpeed    10263\n",
      "WindDir9am       10566\n",
      "WindDir3pm        4228\n",
      "WindSpeed9am      1767\n",
      "WindSpeed3pm      3062\n",
      "Humidity9am       2654\n",
      "Humidity3pm       4507\n",
      "Pressure9am      15065\n",
      "Pressure3pm      15028\n",
      "Cloud9am         55888\n",
      "Cloud3pm         59358\n",
      "Temp9am           1767\n",
      "Temp3pm           3609\n",
      "RainToday         3261\n",
      "RainTomorrow      3267\n",
      "dtype: int64\n"
     ]
    }
   ],
   "source": [
    "# Missing values\n",
    "print(f\"Missing values:\")\n",
    "print(df.isnull().sum())"
   ]
  },
  {
   "cell_type": "markdown",
   "metadata": {},
   "source": [
    "### Handle missing values:\n",
    "**Cloud9am, Cloud3pm** --> DROP COLUMNS (too many datapoints lost if missing values are dropped (~50%), but probably bad info if nan replaced with average over given period or other methods).\n",
    "\n",
    "**Evaporation, Sunshine** --> DROP COLUMNS (too many datapoints lost if missing values are dropped (~50%), prefer to drop to avoid having too many datapoints created instead of collected).\n",
    "\n",
    "\n",
    "**Rainfall, MinTemp, Maxtemp, Temp9am, Humidity9am, Temp3pm, Humidity3pm, Pressure9am, Pressure3pm** --> forward fill  (all these features depend on the period of the year, hence better to use the closets datapoint in time, not average for the entire sample). ***!! this is ok only if we consider the same location, because otherwise we might replace with a value from a different location with very different weather conditions)***\n",
    "\n",
    "\n",
    "**WindGustSpeed, WindSpeed9am, WindSpeed3pm** --> DROP MISSING VALUES (does average make sense? probably not).\n",
    "\n",
    "**WindGustDir, WindDir9am, WindDir3pm** --> DROP MISSING VALUES (not numbers, no good way to substitue, we can't know the value, we don't know if nan means no wind or just not recorded data).\n",
    "\n",
    "**RainToday, RainTomorrow** --> DROP MISSING VALUES (we don't know the value, we can't substitute),"
   ]
  },
  {
   "cell_type": "code",
   "execution_count": 62,
   "metadata": {},
   "outputs": [
    {
     "name": "stdout",
     "output_type": "stream",
     "text": [
      "['Albury' 'BadgerysCreek' 'Cobar' 'CoffsHarbour' 'Moree' 'Newcastle'\n",
      " 'NorahHead' 'NorfolkIsland' 'Penrith' 'Richmond' 'Sydney' 'SydneyAirport'\n",
      " 'WaggaWagga' 'Williamtown' 'Wollongong' 'Canberra' 'Tuggeranong'\n",
      " 'MountGinini' 'Ballarat' 'Bendigo' 'Sale' 'MelbourneAirport' 'Melbourne'\n",
      " 'Mildura' 'Nhil' 'Portland' 'Watsonia' 'Dartmoor' 'Brisbane' 'Cairns'\n",
      " 'GoldCoast' 'Townsville' 'Adelaide' 'MountGambier' 'Nuriootpa' 'Woomera'\n",
      " 'Albany' 'Witchcliffe' 'PearceRAAF' 'PerthAirport' 'Perth' 'SalmonGums'\n",
      " 'Walpole' 'Hobart' 'Launceston' 'AliceSprings' 'Darwin' 'Katherine'\n",
      " 'Uluru']\n",
      "Number of different locations: 49\n",
      "--------------------------------------------------\n",
      "Unique values for wind variables:\n",
      "['W' 'WNW' 'WSW' 'NE' 'NNW' 'N' 'NNE' 'SW' nan 'ENE' 'SSE' 'S' 'NW' 'SE'\n",
      " 'ESE' 'E' 'SSW']\n",
      "['W' 'NNW' 'SE' 'ENE' 'SW' 'SSE' 'S' 'NE' nan 'SSW' 'N' 'WSW' 'ESE' 'E'\n",
      " 'NW' 'WNW' 'NNE']\n",
      "['WNW' 'WSW' 'E' 'NW' 'W' 'SSE' 'ESE' 'ENE' 'NNW' 'SSW' 'SW' 'SE' 'N' 'S'\n",
      " 'NNE' nan 'NE']\n"
     ]
    }
   ],
   "source": [
    "print(df[\"Location\"].unique())\n",
    "print(f\"Number of different locations: {len(df['Location'].unique())}\")\n",
    "print(\"--------------------------------------------------\")\n",
    "print(\"Unique values for wind variables:\")\n",
    "print(df[\"WindGustDir\"].unique())\n",
    "print(df[\"WindDir9am\"].unique())\n",
    "print(df[\"WindDir3pm\"].unique())\n",
    "# Location could be transformed into bigger groups, like north, south, east and west region and use as dummy --> not implemented here\n",
    "# We could focus on specific Locations/Areas --> see below"
   ]
  },
  {
   "cell_type": "markdown",
   "metadata": {},
   "source": [
    "# Create new dataframe with only data for Sydney\n",
    "Use only few locations to have less datapoints and hence faster nested CV example"
   ]
  },
  {
   "cell_type": "code",
   "execution_count": 63,
   "metadata": {},
   "outputs": [
    {
     "data": {
      "text/plain": [
       "(5247, 13)"
      ]
     },
     "execution_count": 63,
     "metadata": {},
     "output_type": "execute_result"
    }
   ],
   "source": [
    "####### Create dataframe and handle missing values\n",
    "starting_df = pd.read_csv(\"dataML/weatherAUS.csv\")\n",
    "\n",
    "target_locs = [\"Sydney\", \"SydneyAirport\"]\n",
    "dataframes_locs = []\n",
    "seasons_map = {int(1): 0, int(2): 0, int(3): 0, int(4): 0, int(5): 0, int(6): 1, int(7): 1, int(8): 1, int(9): 0, int(10): 0, int(11): 0, int(12):0}\n",
    "\n",
    "# loop over all the locations and create a dataframe for each one (required for correct forward fill)\n",
    "# then concatenate all and shuffle \n",
    "for location in target_locs:\n",
    "    df = starting_df[starting_df[\"Location\"].isin([location])]\n",
    "    df = df.sort_values(\"Date\")  \n",
    "    df[\"Season\"] = (pd.to_datetime(df['Date']).dt.month)\n",
    "    # Map categorical (0 for no winter, 1 for winter months)\n",
    "    df = df.replace({'Season': seasons_map,'RainToday': {'Yes': 1, 'No': 0}, 'RainTomorrow': {'Yes': 1, 'No': 0}})\n",
    "    # Drop NaN (for columns identified above)\n",
    "    df = df.dropna(subset=[\"WindGustSpeed\", \"RainToday\", \"RainTomorrow\"])\n",
    "    # Drop columns (for columns identified above, also drop all wind variables except WindGustSpeed (distribution ok) in this case)\n",
    "    df = df.drop([\"Date\", \"Location\", \"Cloud9am\", \"Cloud3pm\", \"Evaporation\", \"Sunshine\", \"WindSpeed9am\", \"WindSpeed3pm\", \"WindGustDir\", \"WindDir9am\", \"WindDir3pm\"], axis=1)\n",
    "    df = df.fillna(method=\"ffill\", axis=0)\n",
    "    df = df.fillna(method=\"bfill\", axis=0)\n",
    "    dataframes_locs.append(df)\n",
    "\n",
    "ausSyddf = pd.concat(dataframes_locs).sample(frac=1)\n",
    "ausSyddf.shape"
   ]
  },
  {
   "cell_type": "code",
   "execution_count": 64,
   "metadata": {},
   "outputs": [
    {
     "data": {
      "text/html": [
       "<style  type=\"text/css\" >\n",
       "#T_43e84_row0_col0,#T_43e84_row1_col1,#T_43e84_row2_col2,#T_43e84_row3_col3,#T_43e84_row4_col4,#T_43e84_row5_col5,#T_43e84_row6_col6,#T_43e84_row7_col7,#T_43e84_row8_col8,#T_43e84_row9_col9{\n",
       "            background-color:  #b40426;\n",
       "            color:  #f1f1f1;\n",
       "        }#T_43e84_row0_col1{\n",
       "            background-color:  #e8765c;\n",
       "            color:  #000000;\n",
       "        }#T_43e84_row0_col2{\n",
       "            background-color:  #6788ee;\n",
       "            color:  #000000;\n",
       "        }#T_43e84_row0_col3{\n",
       "            background-color:  #cedaeb;\n",
       "            color:  #000000;\n",
       "        }#T_43e84_row0_col4{\n",
       "            background-color:  #a1c0ff;\n",
       "            color:  #000000;\n",
       "        }#T_43e84_row0_col5,#T_43e84_row1_col3{\n",
       "            background-color:  #c3d5f4;\n",
       "            color:  #000000;\n",
       "        }#T_43e84_row0_col6{\n",
       "            background-color:  #4b64d5;\n",
       "            color:  #f1f1f1;\n",
       "        }#T_43e84_row0_col7,#T_43e84_row1_col6{\n",
       "            background-color:  #4c66d6;\n",
       "            color:  #000000;\n",
       "        }#T_43e84_row0_col8{\n",
       "            background-color:  #c73635;\n",
       "            color:  #f1f1f1;\n",
       "        }#T_43e84_row0_col9{\n",
       "            background-color:  #ec7f63;\n",
       "            color:  #000000;\n",
       "        }#T_43e84_row1_col0{\n",
       "            background-color:  #e9785d;\n",
       "            color:  #000000;\n",
       "        }#T_43e84_row1_col2{\n",
       "            background-color:  #3c4ec2;\n",
       "            color:  #f1f1f1;\n",
       "        }#T_43e84_row1_col4,#T_43e84_row1_col5{\n",
       "            background-color:  #4a63d3;\n",
       "            color:  #f1f1f1;\n",
       "        }#T_43e84_row1_col7,#T_43e84_row3_col4,#T_43e84_row3_col6,#T_43e84_row6_col0,#T_43e84_row6_col3,#T_43e84_row6_col8,#T_43e84_row7_col1,#T_43e84_row7_col8,#T_43e84_row7_col9,#T_43e84_row9_col2,#T_43e84_row9_col5{\n",
       "            background-color:  #3b4cc0;\n",
       "            color:  #f1f1f1;\n",
       "        }#T_43e84_row1_col8{\n",
       "            background-color:  #d55042;\n",
       "            color:  #000000;\n",
       "        }#T_43e84_row1_col9,#T_43e84_row7_col6,#T_43e84_row9_col1{\n",
       "            background-color:  #bd1f2d;\n",
       "            color:  #f1f1f1;\n",
       "        }#T_43e84_row2_col0{\n",
       "            background-color:  #9abbff;\n",
       "            color:  #000000;\n",
       "        }#T_43e84_row2_col1{\n",
       "            background-color:  #7da0f9;\n",
       "            color:  #000000;\n",
       "        }#T_43e84_row2_col3,#T_43e84_row4_col2,#T_43e84_row5_col6{\n",
       "            background-color:  #c7d7f0;\n",
       "            color:  #000000;\n",
       "        }#T_43e84_row2_col4{\n",
       "            background-color:  #d1dae9;\n",
       "            color:  #000000;\n",
       "        }#T_43e84_row2_col5{\n",
       "            background-color:  #d2dbe8;\n",
       "            color:  #000000;\n",
       "        }#T_43e84_row2_col6{\n",
       "            background-color:  #98b9ff;\n",
       "            color:  #000000;\n",
       "        }#T_43e84_row2_col7{\n",
       "            background-color:  #9ebeff;\n",
       "            color:  #000000;\n",
       "        }#T_43e84_row2_col8{\n",
       "            background-color:  #88abfd;\n",
       "            color:  #000000;\n",
       "        }#T_43e84_row2_col9{\n",
       "            background-color:  #7597f6;\n",
       "            color:  #000000;\n",
       "        }#T_43e84_row3_col0{\n",
       "            background-color:  #c5d6f2;\n",
       "            color:  #000000;\n",
       "        }#T_43e84_row3_col1{\n",
       "            background-color:  #bfd3f6;\n",
       "            color:  #000000;\n",
       "        }#T_43e84_row3_col2{\n",
       "            background-color:  #92b4fe;\n",
       "            color:  #000000;\n",
       "        }#T_43e84_row3_col5{\n",
       "            background-color:  #7093f3;\n",
       "            color:  #000000;\n",
       "        }#T_43e84_row3_col7,#T_43e84_row7_col0,#T_43e84_row9_col7{\n",
       "            background-color:  #4257c9;\n",
       "            color:  #f1f1f1;\n",
       "        }#T_43e84_row3_col8,#T_43e84_row4_col7{\n",
       "            background-color:  #cdd9ec;\n",
       "            color:  #000000;\n",
       "        }#T_43e84_row3_col9,#T_43e84_row6_col5{\n",
       "            background-color:  #aec9fc;\n",
       "            color:  #000000;\n",
       "        }#T_43e84_row4_col0,#T_43e84_row5_col2,#T_43e84_row7_col5{\n",
       "            background-color:  #bed2f6;\n",
       "            color:  #000000;\n",
       "        }#T_43e84_row4_col1{\n",
       "            background-color:  #7b9ff9;\n",
       "            color:  #000000;\n",
       "        }#T_43e84_row4_col3{\n",
       "            background-color:  #7295f4;\n",
       "            color:  #000000;\n",
       "        }#T_43e84_row4_col5{\n",
       "            background-color:  #f49a7b;\n",
       "            color:  #000000;\n",
       "        }#T_43e84_row4_col6,#T_43e84_row5_col0,#T_43e84_row5_col7{\n",
       "            background-color:  #cfdaea;\n",
       "            color:  #000000;\n",
       "        }#T_43e84_row4_col8{\n",
       "            background-color:  #84a7fc;\n",
       "            color:  #000000;\n",
       "        }#T_43e84_row4_col9{\n",
       "            background-color:  #7a9df8;\n",
       "            color:  #000000;\n",
       "        }#T_43e84_row5_col1{\n",
       "            background-color:  #6a8bef;\n",
       "            color:  #000000;\n",
       "        }#T_43e84_row5_col3{\n",
       "            background-color:  #93b5fe;\n",
       "            color:  #000000;\n",
       "        }#T_43e84_row5_col4{\n",
       "            background-color:  #f6a283;\n",
       "            color:  #000000;\n",
       "        }#T_43e84_row5_col8{\n",
       "            background-color:  #a9c6fd;\n",
       "            color:  #000000;\n",
       "        }#T_43e84_row5_col9{\n",
       "            background-color:  #516ddb;\n",
       "            color:  #000000;\n",
       "        }#T_43e84_row6_col1{\n",
       "            background-color:  #465ecf;\n",
       "            color:  #f1f1f1;\n",
       "        }#T_43e84_row6_col2{\n",
       "            background-color:  #5572df;\n",
       "            color:  #000000;\n",
       "        }#T_43e84_row6_col4{\n",
       "            background-color:  #aac7fd;\n",
       "            color:  #000000;\n",
       "        }#T_43e84_row6_col7{\n",
       "            background-color:  #be242e;\n",
       "            color:  #f1f1f1;\n",
       "        }#T_43e84_row6_col9{\n",
       "            background-color:  #4961d2;\n",
       "            color:  #f1f1f1;\n",
       "        }#T_43e84_row7_col2{\n",
       "            background-color:  #6180e9;\n",
       "            color:  #000000;\n",
       "        }#T_43e84_row7_col3,#T_43e84_row8_col6{\n",
       "            background-color:  #485fd1;\n",
       "            color:  #f1f1f1;\n",
       "        }#T_43e84_row7_col4{\n",
       "            background-color:  #adc9fd;\n",
       "            color:  #000000;\n",
       "        }#T_43e84_row8_col0{\n",
       "            background-color:  #c83836;\n",
       "            color:  #f1f1f1;\n",
       "        }#T_43e84_row8_col1{\n",
       "            background-color:  #d44e41;\n",
       "            color:  #000000;\n",
       "        }#T_43e84_row8_col2,#T_43e84_row9_col4{\n",
       "            background-color:  #506bda;\n",
       "            color:  #000000;\n",
       "        }#T_43e84_row8_col3{\n",
       "            background-color:  #d4dbe6;\n",
       "            color:  #000000;\n",
       "        }#T_43e84_row8_col4{\n",
       "            background-color:  #5a78e4;\n",
       "            color:  #000000;\n",
       "        }#T_43e84_row8_col5{\n",
       "            background-color:  #96b7ff;\n",
       "            color:  #000000;\n",
       "        }#T_43e84_row8_col7{\n",
       "            background-color:  #4358cb;\n",
       "            color:  #f1f1f1;\n",
       "        }#T_43e84_row8_col9,#T_43e84_row9_col8{\n",
       "            background-color:  #dc5d4a;\n",
       "            color:  #000000;\n",
       "        }#T_43e84_row9_col0{\n",
       "            background-color:  #ec8165;\n",
       "            color:  #000000;\n",
       "        }#T_43e84_row9_col3{\n",
       "            background-color:  #b9d0f9;\n",
       "            color:  #000000;\n",
       "        }#T_43e84_row9_col6{\n",
       "            background-color:  #5673e0;\n",
       "            color:  #000000;\n",
       "        }</style><table id=\"T_43e84_\" ><thead>    <tr>        <th class=\"blank level0\" ></th>        <th class=\"col_heading level0 col0\" >MinTemp</th>        <th class=\"col_heading level0 col1\" >MaxTemp</th>        <th class=\"col_heading level0 col2\" >Rainfall</th>        <th class=\"col_heading level0 col3\" >WindGustSpeed</th>        <th class=\"col_heading level0 col4\" >Humidity9am</th>        <th class=\"col_heading level0 col5\" >Humidity3pm</th>        <th class=\"col_heading level0 col6\" >Pressure9am</th>        <th class=\"col_heading level0 col7\" >Pressure3pm</th>        <th class=\"col_heading level0 col8\" >Temp9am</th>        <th class=\"col_heading level0 col9\" >Temp3pm</th>    </tr></thead><tbody>\n",
       "                <tr>\n",
       "                        <th id=\"T_43e84_level0_row0\" class=\"row_heading level0 row0\" >MinTemp</th>\n",
       "                        <td id=\"T_43e84_row0_col0\" class=\"data row0 col0\" >1.000000</td>\n",
       "                        <td id=\"T_43e84_row0_col1\" class=\"data row0 col1\" >0.756899</td>\n",
       "                        <td id=\"T_43e84_row0_col2\" class=\"data row0 col2\" >0.007944</td>\n",
       "                        <td id=\"T_43e84_row0_col3\" class=\"data row0 col3\" >0.186880</td>\n",
       "                        <td id=\"T_43e84_row0_col4\" class=\"data row0 col4\" >0.153494</td>\n",
       "                        <td id=\"T_43e84_row0_col5\" class=\"data row0 col5\" >0.234012</td>\n",
       "                        <td id=\"T_43e84_row0_col6\" class=\"data row0 col6\" >-0.390848</td>\n",
       "                        <td id=\"T_43e84_row0_col7\" class=\"data row0 col7\" >-0.354732</td>\n",
       "                        <td id=\"T_43e84_row0_col8\" class=\"data row0 col8\" >0.923138</td>\n",
       "                        <td id=\"T_43e84_row0_col9\" class=\"data row0 col9\" >0.732319</td>\n",
       "            </tr>\n",
       "            <tr>\n",
       "                        <th id=\"T_43e84_level0_row1\" class=\"row_heading level0 row1\" >MaxTemp</th>\n",
       "                        <td id=\"T_43e84_row1_col0\" class=\"data row1 col0\" >0.756899</td>\n",
       "                        <td id=\"T_43e84_row1_col1\" class=\"data row1 col1\" >1.000000</td>\n",
       "                        <td id=\"T_43e84_row1_col2\" class=\"data row1 col2\" >-0.147333</td>\n",
       "                        <td id=\"T_43e84_row1_col3\" class=\"data row1 col3\" >0.127479</td>\n",
       "                        <td id=\"T_43e84_row1_col4\" class=\"data row1 col4\" >-0.153037</td>\n",
       "                        <td id=\"T_43e84_row1_col5\" class=\"data row1 col5\" >-0.228062</td>\n",
       "                        <td id=\"T_43e84_row1_col6\" class=\"data row1 col6\" >-0.386231</td>\n",
       "                        <td id=\"T_43e84_row1_col7\" class=\"data row1 col7\" >-0.442709</td>\n",
       "                        <td id=\"T_43e84_row1_col8\" class=\"data row1 col8\" >0.867727</td>\n",
       "                        <td id=\"T_43e84_row1_col9\" class=\"data row1 col9\" >0.961521</td>\n",
       "            </tr>\n",
       "            <tr>\n",
       "                        <th id=\"T_43e84_level0_row2\" class=\"row_heading level0 row2\" >Rainfall</th>\n",
       "                        <td id=\"T_43e84_row2_col0\" class=\"data row2 col0\" >0.007944</td>\n",
       "                        <td id=\"T_43e84_row2_col1\" class=\"data row2 col1\" >-0.147333</td>\n",
       "                        <td id=\"T_43e84_row2_col2\" class=\"data row2 col2\" >1.000000</td>\n",
       "                        <td id=\"T_43e84_row2_col3\" class=\"data row2 col3\" >0.151370</td>\n",
       "                        <td id=\"T_43e84_row2_col4\" class=\"data row2 col4\" >0.336129</td>\n",
       "                        <td id=\"T_43e84_row2_col5\" class=\"data row2 col5\" >0.297359</td>\n",
       "                        <td id=\"T_43e84_row2_col6\" class=\"data row2 col6\" >-0.053620</td>\n",
       "                        <td id=\"T_43e84_row2_col7\" class=\"data row2 col7\" >-0.010352</td>\n",
       "                        <td id=\"T_43e84_row2_col8\" class=\"data row2 col8\" >-0.071943</td>\n",
       "                        <td id=\"T_43e84_row2_col9\" class=\"data row2 col9\" >-0.154576</td>\n",
       "            </tr>\n",
       "            <tr>\n",
       "                        <th id=\"T_43e84_level0_row3\" class=\"row_heading level0 row3\" >WindGustSpeed</th>\n",
       "                        <td id=\"T_43e84_row3_col0\" class=\"data row3 col0\" >0.186880</td>\n",
       "                        <td id=\"T_43e84_row3_col1\" class=\"data row3 col1\" >0.127479</td>\n",
       "                        <td id=\"T_43e84_row3_col2\" class=\"data row3 col2\" >0.151370</td>\n",
       "                        <td id=\"T_43e84_row3_col3\" class=\"data row3 col3\" >1.000000</td>\n",
       "                        <td id=\"T_43e84_row3_col4\" class=\"data row3 col4\" >-0.217601</td>\n",
       "                        <td id=\"T_43e84_row3_col5\" class=\"data row3 col5\" >-0.077947</td>\n",
       "                        <td id=\"T_43e84_row3_col6\" class=\"data row3 col6\" >-0.473116</td>\n",
       "                        <td id=\"T_43e84_row3_col7\" class=\"data row3 col7\" >-0.406682</td>\n",
       "                        <td id=\"T_43e84_row3_col8\" class=\"data row3 col8\" >0.216820</td>\n",
       "                        <td id=\"T_43e84_row3_col9\" class=\"data row3 col9\" >0.080042</td>\n",
       "            </tr>\n",
       "            <tr>\n",
       "                        <th id=\"T_43e84_level0_row4\" class=\"row_heading level0 row4\" >Humidity9am</th>\n",
       "                        <td id=\"T_43e84_row4_col0\" class=\"data row4 col0\" >0.153494</td>\n",
       "                        <td id=\"T_43e84_row4_col1\" class=\"data row4 col1\" >-0.153037</td>\n",
       "                        <td id=\"T_43e84_row4_col2\" class=\"data row4 col2\" >0.336129</td>\n",
       "                        <td id=\"T_43e84_row4_col3\" class=\"data row4 col3\" >-0.217601</td>\n",
       "                        <td id=\"T_43e84_row4_col4\" class=\"data row4 col4\" >1.000000</td>\n",
       "                        <td id=\"T_43e84_row4_col5\" class=\"data row4 col5\" >0.671083</td>\n",
       "                        <td id=\"T_43e84_row4_col6\" class=\"data row4 col6\" >0.189953</td>\n",
       "                        <td id=\"T_43e84_row4_col7\" class=\"data row4 col7\" >0.199737</td>\n",
       "                        <td id=\"T_43e84_row4_col8\" class=\"data row4 col8\" >-0.090475</td>\n",
       "                        <td id=\"T_43e84_row4_col9\" class=\"data row4 col9\" >-0.131591</td>\n",
       "            </tr>\n",
       "            <tr>\n",
       "                        <th id=\"T_43e84_level0_row5\" class=\"row_heading level0 row5\" >Humidity3pm</th>\n",
       "                        <td id=\"T_43e84_row5_col0\" class=\"data row5 col0\" >0.234012</td>\n",
       "                        <td id=\"T_43e84_row5_col1\" class=\"data row5 col1\" >-0.228062</td>\n",
       "                        <td id=\"T_43e84_row5_col2\" class=\"data row5 col2\" >0.297359</td>\n",
       "                        <td id=\"T_43e84_row5_col3\" class=\"data row5 col3\" >-0.077947</td>\n",
       "                        <td id=\"T_43e84_row5_col4\" class=\"data row5 col4\" >0.671083</td>\n",
       "                        <td id=\"T_43e84_row5_col5\" class=\"data row5 col5\" >1.000000</td>\n",
       "                        <td id=\"T_43e84_row5_col6\" class=\"data row5 col6\" >0.149358</td>\n",
       "                        <td id=\"T_43e84_row5_col7\" class=\"data row5 col7\" >0.209584</td>\n",
       "                        <td id=\"T_43e84_row5_col8\" class=\"data row5 col8\" >0.056799</td>\n",
       "                        <td id=\"T_43e84_row5_col9\" class=\"data row5 col9\" >-0.298546</td>\n",
       "            </tr>\n",
       "            <tr>\n",
       "                        <th id=\"T_43e84_level0_row6\" class=\"row_heading level0 row6\" >Pressure9am</th>\n",
       "                        <td id=\"T_43e84_row6_col0\" class=\"data row6 col0\" >-0.390848</td>\n",
       "                        <td id=\"T_43e84_row6_col1\" class=\"data row6 col1\" >-0.386231</td>\n",
       "                        <td id=\"T_43e84_row6_col2\" class=\"data row6 col2\" >-0.053620</td>\n",
       "                        <td id=\"T_43e84_row6_col3\" class=\"data row6 col3\" >-0.473116</td>\n",
       "                        <td id=\"T_43e84_row6_col4\" class=\"data row6 col4\" >0.189953</td>\n",
       "                        <td id=\"T_43e84_row6_col5\" class=\"data row6 col5\" >0.149358</td>\n",
       "                        <td id=\"T_43e84_row6_col6\" class=\"data row6 col6\" >1.000000</td>\n",
       "                        <td id=\"T_43e84_row6_col7\" class=\"data row6 col7\" >0.960222</td>\n",
       "                        <td id=\"T_43e84_row6_col8\" class=\"data row6 col8\" >-0.405933</td>\n",
       "                        <td id=\"T_43e84_row6_col9\" class=\"data row6 col9\" >-0.339601</td>\n",
       "            </tr>\n",
       "            <tr>\n",
       "                        <th id=\"T_43e84_level0_row7\" class=\"row_heading level0 row7\" >Pressure3pm</th>\n",
       "                        <td id=\"T_43e84_row7_col0\" class=\"data row7 col0\" >-0.354732</td>\n",
       "                        <td id=\"T_43e84_row7_col1\" class=\"data row7 col1\" >-0.442709</td>\n",
       "                        <td id=\"T_43e84_row7_col2\" class=\"data row7 col2\" >-0.010352</td>\n",
       "                        <td id=\"T_43e84_row7_col3\" class=\"data row7 col3\" >-0.406682</td>\n",
       "                        <td id=\"T_43e84_row7_col4\" class=\"data row7 col4\" >0.199737</td>\n",
       "                        <td id=\"T_43e84_row7_col5\" class=\"data row7 col5\" >0.209584</td>\n",
       "                        <td id=\"T_43e84_row7_col6\" class=\"data row7 col6\" >0.960222</td>\n",
       "                        <td id=\"T_43e84_row7_col7\" class=\"data row7 col7\" >1.000000</td>\n",
       "                        <td id=\"T_43e84_row7_col8\" class=\"data row7 col8\" >-0.401000</td>\n",
       "                        <td id=\"T_43e84_row7_col9\" class=\"data row7 col9\" >-0.408565</td>\n",
       "            </tr>\n",
       "            <tr>\n",
       "                        <th id=\"T_43e84_level0_row8\" class=\"row_heading level0 row8\" >Temp9am</th>\n",
       "                        <td id=\"T_43e84_row8_col0\" class=\"data row8 col0\" >0.923138</td>\n",
       "                        <td id=\"T_43e84_row8_col1\" class=\"data row8 col1\" >0.867727</td>\n",
       "                        <td id=\"T_43e84_row8_col2\" class=\"data row8 col2\" >-0.071943</td>\n",
       "                        <td id=\"T_43e84_row8_col3\" class=\"data row8 col3\" >0.216820</td>\n",
       "                        <td id=\"T_43e84_row8_col4\" class=\"data row8 col4\" >-0.090475</td>\n",
       "                        <td id=\"T_43e84_row8_col5\" class=\"data row8 col5\" >0.056799</td>\n",
       "                        <td id=\"T_43e84_row8_col6\" class=\"data row8 col6\" >-0.405933</td>\n",
       "                        <td id=\"T_43e84_row8_col7\" class=\"data row8 col7\" >-0.401000</td>\n",
       "                        <td id=\"T_43e84_row8_col8\" class=\"data row8 col8\" >1.000000</td>\n",
       "                        <td id=\"T_43e84_row8_col9\" class=\"data row8 col9\" >0.831958</td>\n",
       "            </tr>\n",
       "            <tr>\n",
       "                        <th id=\"T_43e84_level0_row9\" class=\"row_heading level0 row9\" >Temp3pm</th>\n",
       "                        <td id=\"T_43e84_row9_col0\" class=\"data row9 col0\" >0.732319</td>\n",
       "                        <td id=\"T_43e84_row9_col1\" class=\"data row9 col1\" >0.961521</td>\n",
       "                        <td id=\"T_43e84_row9_col2\" class=\"data row9 col2\" >-0.154576</td>\n",
       "                        <td id=\"T_43e84_row9_col3\" class=\"data row9 col3\" >0.080042</td>\n",
       "                        <td id=\"T_43e84_row9_col4\" class=\"data row9 col4\" >-0.131591</td>\n",
       "                        <td id=\"T_43e84_row9_col5\" class=\"data row9 col5\" >-0.298546</td>\n",
       "                        <td id=\"T_43e84_row9_col6\" class=\"data row9 col6\" >-0.339601</td>\n",
       "                        <td id=\"T_43e84_row9_col7\" class=\"data row9 col7\" >-0.408565</td>\n",
       "                        <td id=\"T_43e84_row9_col8\" class=\"data row9 col8\" >0.831958</td>\n",
       "                        <td id=\"T_43e84_row9_col9\" class=\"data row9 col9\" >1.000000</td>\n",
       "            </tr>\n",
       "    </tbody></table>"
      ],
      "text/plain": [
       "<pandas.io.formats.style.Styler at 0x7fba9c077210>"
      ]
     },
     "execution_count": 64,
     "metadata": {},
     "output_type": "execute_result"
    }
   ],
   "source": [
    "# Correlation between features\n",
    "correl_mat = ausSyddf[['MinTemp', 'MaxTemp', 'Rainfall', 'WindGustSpeed','Humidity9am', 'Humidity3pm', 'Pressure9am', 'Pressure3pm', 'Temp9am', 'Temp3pm']].corr()\n",
    "correl_mat.style.background_gradient(cmap=\"coolwarm\")"
   ]
  },
  {
   "cell_type": "code",
   "execution_count": 65,
   "metadata": {},
   "outputs": [],
   "source": [
    "####### Basic Features selection\n",
    "# drop MinTemp and MaxTemp --> very high correlation with 9am and 3pm temperature\n",
    "# drop temp9am --> very high correlation with temp3pm\n",
    "# drop Pressure9am --> very high correlation with pressure3am\n",
    "\n",
    "ausSyddf = ausSyddf.drop([\"MinTemp\", \"MaxTemp\", \"Temp9am\", \"Pressure9am\"], axis=1)"
   ]
  },
  {
   "cell_type": "markdown",
   "metadata": {},
   "source": [
    "## 2) Hyperparameters tuning and Model Selection\n",
    "\n",
    "We will be using the SW area dataset (ausSyddf), to show the functioning of some of functions for nested cross validation."
   ]
  },
  {
   "cell_type": "code",
   "execution_count": 72,
   "metadata": {},
   "outputs": [],
   "source": [
    "from sklearn.model_selection import train_test_split, GridSearchCV\n",
    "from sklearn.svm import SVC\n",
    "from sklearn.neighbors import KNeighborsClassifier\n",
    "from sklearn.ensemble import RandomForestClassifier, GradientBoostingClassifier\n",
    "from sklearn.discriminant_analysis import LinearDiscriminantAnalysis\n",
    "from sklearn.metrics import plot_roc_curve, classification_report, plot_precision_recall_curve, plot_confusion_matrix\n",
    "from sklearn.preprocessing import MinMaxScaler\n",
    "from imblearn.over_sampling import SMOTE\n",
    "from imblearn.under_sampling import RandomUnderSampler\n",
    "from imblearn.pipeline import Pipeline\n",
    "from collections import Counter\n",
    "# nested_CV functions in my file\n",
    "from AG_nested_CrossVal import inner_CV_setup, nestedCV_model_selection, final_tuning"
   ]
  },
  {
   "cell_type": "code",
   "execution_count": 73,
   "metadata": {},
   "outputs": [
    {
     "name": "stdout",
     "output_type": "stream",
     "text": [
      "Initial imbalance: Counter({0.0: 3895, 1.0: 1352})\n",
      "Balanced class: Counter({0.0: 3651, 1.0: 2921}), percentage of class 1 on total: 44.45%\n"
     ]
    }
   ],
   "source": [
    "# Showing how SMOTE + RandomUnderSampler works (suggested to use them combined)\n",
    "# show initial imbalanced\n",
    "x = ausSyddf.drop(\"RainTomorrow\", axis=1)\n",
    "y = ausSyddf[\"RainTomorrow\"]\n",
    "counter1 = Counter(y)\n",
    "print(f\"Initial imbalance: {counter1}\")\n",
    "\n",
    "over = SMOTE(sampling_strategy=0.75)\n",
    "under = RandomUnderSampler(sampling_strategy=0.8)\n",
    "pipeline_balance = Pipeline([(\"O\", over),(\"U\", under)])\n",
    "# transform the dataset\n",
    "balancedX, balancedy = pipeline_balance.fit_resample(x, y)\n",
    "\n",
    "counter2 = Counter(balancedy)\n",
    "print(f\"Balanced class: {counter2}, percentage of class 1 on total: {round(counter2[1.0]/(counter2[0.0]+counter2[1.0])*100, 2)}%\")"
   ]
  },
  {
   "cell_type": "code",
   "execution_count": 74,
   "metadata": {},
   "outputs": [],
   "source": [
    "# 1)  Define the final evaluation set\n",
    "X_train, X_final_eval, y_train, y_final_eval = train_test_split(ausSyddf.drop(\"RainTomorrow\", axis=1), ausSyddf[\"RainTomorrow\"], test_size=0.15, random_state=111)"
   ]
  },
  {
   "cell_type": "code",
   "execution_count": 77,
   "metadata": {},
   "outputs": [
    {
     "data": {
      "text/html": [
       "<div>\n",
       "<style scoped>\n",
       "    .dataframe tbody tr th:only-of-type {\n",
       "        vertical-align: middle;\n",
       "    }\n",
       "\n",
       "    .dataframe tbody tr th {\n",
       "        vertical-align: top;\n",
       "    }\n",
       "\n",
       "    .dataframe thead th {\n",
       "        text-align: right;\n",
       "    }\n",
       "</style>\n",
       "<table border=\"1\" class=\"dataframe\">\n",
       "  <thead>\n",
       "    <tr style=\"text-align: right;\">\n",
       "      <th></th>\n",
       "      <th>LDA</th>\n",
       "      <th>RandomForest</th>\n",
       "      <th>SVC</th>\n",
       "      <th>kNN</th>\n",
       "    </tr>\n",
       "  </thead>\n",
       "  <tbody>\n",
       "    <tr>\n",
       "      <th>OuterCV_average_Score%</th>\n",
       "      <td>63.260203</td>\n",
       "      <td>59.731364</td>\n",
       "      <td>63.944083</td>\n",
       "      <td>61.930496</td>\n",
       "    </tr>\n",
       "    <tr>\n",
       "      <th>OuterCV_std%</th>\n",
       "      <td>0.878526</td>\n",
       "      <td>1.705737</td>\n",
       "      <td>0.148087</td>\n",
       "      <td>0.772589</td>\n",
       "    </tr>\n",
       "  </tbody>\n",
       "</table>\n",
       "</div>"
      ],
      "text/plain": [
       "                              LDA  RandomForest        SVC        kNN\n",
       "OuterCV_average_Score%  63.260203     59.731364  63.944083  61.930496\n",
       "OuterCV_std%             0.878526      1.705737   0.148087   0.772589"
      ]
     },
     "execution_count": 77,
     "metadata": {},
     "output_type": "execute_result"
    }
   ],
   "source": [
    "# 2) Example of Model selection with nested CV + pipelines\n",
    "# a.1) prepare pipelines\n",
    "pipe_knn = Pipeline([(\"bal1\", SMOTE(sampling_strategy=0.75)), (\"bal2\", RandomUnderSampler(sampling_strategy=0.8)), (\"scale\", MinMaxScaler()), (\"est1\", KNeighborsClassifier())])\n",
    "pipe_boost = Pipeline([(\"est2\", RandomForestClassifier(class_weight=\"balanced_subsample\"))])    # handle imbalance in the model\n",
    "pipe_lda = Pipeline([(\"bal1\", SMOTE(sampling_strategy=0.75)), (\"bal2\", RandomUnderSampler(sampling_strategy=0.8)), (\"scale\", MinMaxScaler()), (\"est3\", LinearDiscriminantAnalysis())])\n",
    "pipe_svc = Pipeline([(\"scale\", MinMaxScaler()), (\"est4\", SVC(class_weight = \"balanced\"))])   # handle imbalance in the model\n",
    "\n",
    "# a.2) prepare the inner cv\n",
    "models = (pipe_knn, pipe_boost, pipe_lda, pipe_svc)  # could be pipelines or simple models\n",
    "param_grids = ([{\"est1__n_neighbors\": [5, 10, 25, 50], \"est1__weights\": ['uniform', 'distance']}],\n",
    "                [{\"est2__n_estimators\": [50, 100, 150], \"est2__criterion\": [\"gini\", \"entropy\"]}],\n",
    "                [{\"est3__shrinkage\": [None]}],\n",
    "                [{\"est4__C\": [0.5, 1, 5], \"est4__gamma\": [\"auto\", \"scale\"]}])\n",
    "\n",
    "mod_names = (\"kNN\", \"RandomForest\", \"LDA\", \"SVC\")\n",
    "\n",
    "dict_CVgrids = inner_CV_setup(models, param_grids, mod_names, 3, scoring_metric=\"f1\", seed=33)  # stratifiedKfold and GridSearchCV for inner CV (seed used to set random_seed)\n",
    "\n",
    "# b) perform nested CV\n",
    "nestedCV_results = nestedCV_model_selection(dict_CVgrids, 3, X_train, y_train, scoring_metric=\"f1\", seed=22)  # stratifiedKfold for outer CV\n",
    "nestedCV_results"
   ]
  },
  {
   "cell_type": "markdown",
   "metadata": {},
   "source": [
    "## 3) Final Hyperparameters tuning and Evaluation for the best model"
   ]
  },
  {
   "cell_type": "code",
   "execution_count": 84,
   "metadata": {},
   "outputs": [
    {
     "name": "stdout",
     "output_type": "stream",
     "text": [
      "Best model with tuned hyperparameters:\n",
      "Pipeline(steps=[('scale', MinMaxScaler()),\n",
      "                ('best_est', SVC(C=3, class_weight='balanced'))])\n"
     ]
    }
   ],
   "source": [
    "# Identify best model --> SVC\n",
    "best_pipe = Pipeline([(\"scale\", MinMaxScaler()), (\"best_est\", SVC(class_weight = \"balanced\"))])\n",
    "# Define parameters grid used for the final hyperparams tuning (could be different or same as before)\n",
    "best_grid = [{\"best_est__C\": [0.1, 0.5, 1, 3, 5], \"best_est__gamma\": [\"auto\", \"scale\"]}]\n",
    "\n",
    "# Final hyperparams tuning (in this case best_mod_tuned is a Pipeline object)\n",
    "best_mod_tuned = final_tuning(best_pipe, best_grid, 4, X_train, y_train, scoring_metric=\"f1\", seed=11)  # stratifiedKfold and GridSearchCV\n",
    "print(\"Best model with tuned hyperparameters:\")\n",
    "print(best_mod_tuned)"
   ]
  },
  {
   "cell_type": "code",
   "execution_count": 80,
   "metadata": {},
   "outputs": [
    {
     "name": "stdout",
     "output_type": "stream",
     "text": [
      "              precision    recall  f1-score   support\n",
      "\n",
      "         0.0       0.87      0.79      0.83       591\n",
      "         1.0       0.51      0.65      0.57       197\n",
      "\n",
      "    accuracy                           0.76       788\n",
      "   macro avg       0.69      0.72      0.70       788\n",
      "weighted avg       0.78      0.76      0.77       788\n",
      "\n"
     ]
    }
   ],
   "source": [
    "# Final evaluation to the best tuned models\n",
    "best_mod_tuned.fit(X_train, y_train)\n",
    "predictions = best_mod_tuned.predict(X_final_eval)\n",
    "print(classification_report(y_final_eval, predictions))"
   ]
  },
  {
   "cell_type": "code",
   "execution_count": 81,
   "metadata": {},
   "outputs": [
    {
     "data": {
      "image/png": "[encoded data removed]",
      "text/plain": [
       "<Figure size 432x288 with 1 Axes>"
      ]
     },
     "metadata": {},
     "output_type": "display_data"
    }
   ],
   "source": [
    "plot_confusion_matrix(best_mod_tuned, X_final_eval, y_final_eval, colorbar=False)\n",
    "plt.grid();  # remove sns grid"
   ]
  },
  {
   "cell_type": "code",
   "execution_count": 82,
   "metadata": {},
   "outputs": [
    {
     "data": {
      "image/png": "[encoded data removed]",
      "text/plain": [
       "<Figure size 432x288 with 1 Axes>"
      ]
     },
     "metadata": {},
     "output_type": "display_data"
    }
   ],
   "source": [
    "plot_roc_curve(best_mod_tuned, X_final_eval, y_final_eval);"
   ]
  },
  {
   "cell_type": "code",
   "execution_count": 83,
   "metadata": {},
   "outputs": [
    {
     "data": {
      "image/png": "[encoded data removed]",
      "text/plain": [
       "<Figure size 432x288 with 1 Axes>"
      ]
     },
     "metadata": {},
     "output_type": "display_data"
    }
   ],
   "source": [
    "plot_precision_recall_curve(best_mod_tuned, X_final_eval, y_final_eval);"
   ]
  }
 ],
 "metadata": {
  "interpreter": {
   "hash": "ecdf108b986fec06f7876a2b77fffab883fa2c721c4866b9970845870539861b"
  },
  "kernelspec": {
   "display_name": "Python 3.7.4 64-bit ('base': conda)",
   "language": "python",
   "name": "python3"
  },
  "language_info": {
   "codemirror_mode": {
    "name": "ipython",
    "version": 3
   },
   "file_extension": ".py",
   "mimetype": "text/x-python",
   "name": "python",
   "nbconvert_exporter": "python",
   "pygments_lexer": "ipython3",
   "version": "3.7.4"
  },
  "orig_nbformat": 4
 },
 "nbformat": 4,
 "nbformat_minor": 2
}
