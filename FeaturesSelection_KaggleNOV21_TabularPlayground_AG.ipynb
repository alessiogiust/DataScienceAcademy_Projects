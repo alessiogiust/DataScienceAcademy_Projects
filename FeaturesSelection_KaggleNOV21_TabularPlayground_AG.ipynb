{
 "cells": [
  {
   "cell_type": "markdown",
   "metadata": {},
   "source": [
    "## November 2021 Kaggle Tabular Playground Series\n",
    "\n",
    "Performance metric --> AUC"
   ]
  },
  {
   "cell_type": "code",
   "execution_count": 2,
   "metadata": {},
   "outputs": [],
   "source": [
    "import pandas as pd\n",
    "import numpy as np\n",
    "import seaborn as sns\n",
    "import matplotlib.pyplot as plt\n",
    "\n",
    "from sklearn.model_selection import train_test_split\n",
    "from sklearn.neighbors import KNeighborsClassifier\n",
    "from sklearn.linear_model import LogisticRegression\n",
    "from sklearn.svm import SVC\n",
    "from sklearn.ensemble import RandomForestClassifier, BaggingClassifier\n",
    "from sklearn.discriminant_analysis import LinearDiscriminantAnalysis\n",
    "from sklearn.metrics import plot_roc_curve, classification_report, auc\n",
    "from sklearn.preprocessing import MinMaxScaler\n",
    "\n",
    "sns.set()"
   ]
  },
  {
   "cell_type": "code",
   "execution_count": 28,
   "metadata": {},
   "outputs": [
    {
     "name": "stdout",
     "output_type": "stream",
     "text": [
      "(600000, 101)\n",
      "[dtype('float64') dtype('int64')]\n",
      "False\n"
     ]
    },
    {
     "data": {
      "text/plain": [
       "1    0.50601\n",
       "0    0.49399\n",
       "Name: target, dtype: float64"
      ]
     },
     "execution_count": 28,
     "metadata": {},
     "output_type": "execute_result"
    }
   ],
   "source": [
    "# Preliminary analysis\n",
    "dfall = pd.read_csv(\"dataML/trainNOV21.csv\").drop(\"id\", axis=1)  # change path if needed (dataset link: https://www.kaggle.com/c/tabular-playground-series-nov-2021/data)\n",
    "print(dfall.shape)\n",
    "print(dfall.dtypes.unique())\n",
    "print(dfall.isnull().sum().any())\n",
    "(dfall[\"target\"].value_counts())/(len(dfall))   # balanced dataset\n",
    "# Visualization on another notebook using pandas_profiling, too many features to do it here"
   ]
  },
  {
   "cell_type": "code",
   "execution_count": 30,
   "metadata": {},
   "outputs": [
    {
     "name": "stdout",
     "output_type": "stream",
     "text": [
      "(90000, 101)\n"
     ]
    },
    {
     "data": {
      "text/plain": [
       "1    0.505444\n",
       "0    0.494556\n",
       "Name: target, dtype: float64"
      ]
     },
     "execution_count": 30,
     "metadata": {},
     "output_type": "execute_result"
    }
   ],
   "source": [
    "# !! Use only 15% of the dataset as an example, otherwise computations are too slow\n",
    "df = dfall.sample(frac=0.15, random_state=123)\n",
    "print(df.shape)\n",
    "(df[\"target\"].value_counts())/(len(df)) "
   ]
  },
  {
   "cell_type": "markdown",
   "metadata": {},
   "source": [
    "### Define splits and scale the data"
   ]
  },
  {
   "cell_type": "code",
   "execution_count": 31,
   "metadata": {},
   "outputs": [],
   "source": [
    "# define X and y data\n",
    "X = df.drop(\"target\", axis=1)\n",
    "y = df[\"target\"]\n",
    "# Split in train and final evaluation set\n",
    "X_train, X_final_test, y_train, y_final_test = train_test_split(X, y, random_state=10, shuffle=True)\n",
    "# Scale\n",
    "scaler = MinMaxScaler()\n",
    "X_train = pd.DataFrame(scaler.fit_transform(X_train), columns=X_train.columns) \n",
    "X_final_test = pd.DataFrame(scaler.transform(X_final_test), columns=X_final_test.columns)"
   ]
  },
  {
   "cell_type": "markdown",
   "metadata": {},
   "source": [
    "### Features Selection"
   ]
  },
  {
   "cell_type": "code",
   "execution_count": 32,
   "metadata": {},
   "outputs": [],
   "source": [
    "###### 1) Analyze correlation\n",
    "correl_mat = X_train.corr()\n",
    "# do not plot, too big\n",
    "# all features have very low correlation with eachother, \n",
    "# no clear indication on which features to drop here"
   ]
  },
  {
   "cell_type": "code",
   "execution_count": 33,
   "metadata": {},
   "outputs": [
    {
     "name": "stdout",
     "output_type": "stream",
     "text": [
      "50 Features selected by KBest_chi2: ['f1', 'f2', 'f3', 'f5', 'f8', 'f10', 'f11', 'f14', 'f15', 'f17', 'f18', 'f21', 'f22', 'f24', 'f25', 'f26', 'f27', 'f30', 'f32', 'f34', 'f37', 'f40', 'f41', 'f43', 'f45', 'f47', 'f49', 'f50', 'f53', 'f54', 'f55', 'f57', 'f60', 'f66', 'f67', 'f70', 'f71', 'f74', 'f77', 'f80', 'f81', 'f82', 'f85', 'f86', 'f91', 'f94', 'f95', 'f96', 'f97', 'f98']\n",
      "50 Features selected by KBest_fclass: ['f1', 'f2', 'f3', 'f4', 'f8', 'f9', 'f10', 'f17', 'f20', 'f21', 'f22', 'f24', 'f25', 'f26', 'f27', 'f30', 'f31', 'f32', 'f33', 'f34', 'f40', 'f41', 'f42', 'f43', 'f44', 'f45', 'f47', 'f48', 'f49', 'f50', 'f51', 'f53', 'f54', 'f55', 'f57', 'f60', 'f62', 'f64', 'f66', 'f71', 'f80', 'f81', 'f82', 'f83', 'f91', 'f94', 'f95', 'f96', 'f97', 'f98']\n",
      "23 Features selected by FDR: ['f3', 'f8', 'f10', 'f17', 'f22', 'f25', 'f26', 'f34', 'f40', 'f41', 'f43', 'f47', 'f50', 'f54', 'f55', 'f57', 'f66', 'f71', 'f80', 'f82', 'f91', 'f96', 'f97']\n",
      "25 Features selected by FPR: ['f3', 'f8', 'f10', 'f17', 'f21', 'f22', 'f25', 'f26', 'f34', 'f40', 'f41', 'f43', 'f45', 'f47', 'f50', 'f54', 'f55', 'f57', 'f66', 'f71', 'f80', 'f82', 'f91', 'f96', 'f97']\n",
      "17 Features selected by FWE: ['f8', 'f22', 'f25', 'f34', 'f40', 'f41', 'f43', 'f50', 'f55', 'f57', 'f66', 'f71', 'f80', 'f82', 'f91', 'f96', 'f97']\n",
      "----------------------------------------------------------------------------------------------------\n",
      "17 Features selected by all the univariate methods: ['f22' 'f25' 'f34' 'f40' 'f41' 'f43' 'f50' 'f55' 'f57' 'f66' 'f71' 'f8'\n",
      " 'f80' 'f82' 'f91' 'f96' 'f97']\n"
     ]
    }
   ],
   "source": [
    "###### 2) Univariate features selection\n",
    "from sklearn.feature_selection import SelectKBest, SelectFdr, SelectFpr, SelectFwe, chi2, f_classif\n",
    "from functools import reduce\n",
    "\n",
    "univariate_fs_methods = [SelectKBest(chi2, k=50), SelectKBest(f_classif, k=50), \n",
    "                        SelectFdr(chi2, alpha=0.05), SelectFpr(chi2, alpha=0.05), SelectFwe(chi2, alpha=0.05)]\n",
    "names = [\"KBest_chi2\", \"KBest_fclass\", \"FDR\", \"FPR\", \"FWE\"]\n",
    "\n",
    "# loop over all the methods\n",
    "results = []\n",
    "for name, method in zip(names, univariate_fs_methods):\n",
    "    selection_method = method.fit(X_train, y_train)\n",
    "    selected = list(X_train.columns[selection_method.get_support()])  # select column names given True/False indexes list obtained from .get_support()\n",
    "    results.append(selected)\n",
    "    print(f\"{len(selected)} Features selected by {name}: {selected}\")\n",
    "\n",
    "selected_by_all = reduce(np.intersect1d, results) # list(set.intersection(*[set(x) for x in results])) # apply intersect1d to (a list of) multiple lists\n",
    "reduce(np.intersect1d, results)\n",
    "print(\"-\"*100)\n",
    "print(f\"{len(selected_by_all)} Features selected by all the univariate methods: {selected_by_all}\")\n",
    "\n",
    "# keep all the features selected by all the univariate methods"
   ]
  },
  {
   "cell_type": "code",
   "execution_count": 34,
   "metadata": {},
   "outputs": [
    {
     "data": {
      "image/png": "[encoded data removed]",
      "text/plain": [
       "<Figure size 1800x432 with 1 Axes>"
      ]
     },
     "metadata": {},
     "output_type": "display_data"
    }
   ],
   "source": [
    "###### 3) Tree-based features selection\n",
    "rf = RandomForestClassifier().fit(X_train, y_train)\n",
    "\n",
    "feat_imp_df = pd.DataFrame(rf.feature_importances_, index=X_train.columns, columns=[\"Importance\"])\n",
    "feat_imp_df = feat_imp_df.sort_values(by='Importance', ascending=False)\n",
    "feat_imp_df.plot(kind='bar', figsize=(25,6));"
   ]
  },
  {
   "cell_type": "code",
   "execution_count": 35,
   "metadata": {},
   "outputs": [
    {
     "name": "stdout",
     "output_type": "stream",
     "text": [
      "20 features with importance score > 0.010 selected by Tree-based method: ['f34', 'f55', 'f91', 'f8', 'f80', 'f71', 'f43', 'f27', 'f50', 'f97', 'f57', 'f41', 'f66', 'f22', 'f25', 'f96', 'f82', 'f81', 'f60', 'f44']\n"
     ]
    }
   ],
   "source": [
    "selectedTree = feat_imp_df[feat_imp_df[\"Importance\"] > 0.010]\n",
    "selectedTree = list(selectedTree.index)\n",
    "print(f\"{len(selectedTree)} features with importance score > 0.010 selected by Tree-based method: {selectedTree}\")"
   ]
  },
  {
   "cell_type": "code",
   "execution_count": 37,
   "metadata": {},
   "outputs": [],
   "source": [
    "###### 4) Recursive features elimination (RFE)\n",
    "from sklearn.feature_selection import RFE\n",
    "\n",
    "# just as an example, too slow\n",
    "# rfe = RFE(rf, n_features_to_select=35).fit(X_train, y_train)\n",
    "# selected_RFE = list(X_train.columns[rfe.get_support()]) \n",
    "# print(f\"{len(selected_RFE)} Features selected by RFE method: {selected_RFE}\")"
   ]
  },
  {
   "cell_type": "code",
   "execution_count": 38,
   "metadata": {},
   "outputs": [
    {
     "name": "stdout",
     "output_type": "stream",
     "text": [
      "21 Features selected: ['f81', 'f60', 'f27', 'f41', 'f25', 'f71', 'f40', 'f57', 'f43', 'f8', 'f50', 'f34', 'f55', 'f80', 'f44', 'f96', 'f22', 'f97', 'f82', 'f66', 'f91']\n"
     ]
    }
   ],
   "source": [
    "# Define features to drop\n",
    "all_features_selected = list(selected_by_all) + selectedTree #+ selected_RFE\n",
    "feat_to_keep = list(set(all_features_selected))   # eliminate duplicate features, set has no duplicates\n",
    "\n",
    "print(f\"{len(feat_to_keep)} Features selected: {feat_to_keep}\")"
   ]
  },
  {
   "cell_type": "code",
   "execution_count": 39,
   "metadata": {},
   "outputs": [
    {
     "data": {
      "image/png": "[encoded data removed]",
      "text/plain": [
       "<Figure size 1296x360 with 1 Axes>"
      ]
     },
     "metadata": {},
     "output_type": "display_data"
    }
   ],
   "source": [
    "###### 5) PCA on selected features\n",
    "from sklearn.decomposition import PCA\n",
    "\n",
    "X_train_fs = X_train[list(feat_to_keep)]\n",
    "\n",
    "pca = PCA().fit(X_train_fs)\n",
    "\n",
    "plt.figure(figsize=(18,5))\n",
    "plt.bar([f\"C_{i+1}\" for i in range(0, len(feat_to_keep))], pca.explained_variance_ratio_);\n",
    "\n",
    "# it could be a good option to drop the last 4 principal components"
   ]
  },
  {
   "cell_type": "code",
   "execution_count": 42,
   "metadata": {},
   "outputs": [
    {
     "name": "stdout",
     "output_type": "stream",
     "text": [
      "Explained variance from first 17 Principal Components: 0.9921403342768522\n"
     ]
    },
    {
     "data": {
      "text/html": [
       "<div>\n",
       "<style scoped>\n",
       "    .dataframe tbody tr th:only-of-type {\n",
       "        vertical-align: middle;\n",
       "    }\n",
       "\n",
       "    .dataframe tbody tr th {\n",
       "        vertical-align: top;\n",
       "    }\n",
       "\n",
       "    .dataframe thead th {\n",
       "        text-align: right;\n",
       "    }\n",
       "</style>\n",
       "<table border=\"1\" class=\"dataframe\">\n",
       "  <thead>\n",
       "    <tr style=\"text-align: right;\">\n",
       "      <th></th>\n",
       "      <th>C_1</th>\n",
       "      <th>C_2</th>\n",
       "      <th>C_3</th>\n",
       "      <th>C_4</th>\n",
       "      <th>C_5</th>\n",
       "      <th>C_6</th>\n",
       "      <th>C_7</th>\n",
       "      <th>C_8</th>\n",
       "      <th>C_9</th>\n",
       "      <th>C_10</th>\n",
       "      <th>C_11</th>\n",
       "      <th>C_12</th>\n",
       "      <th>C_13</th>\n",
       "      <th>C_14</th>\n",
       "      <th>C_15</th>\n",
       "      <th>C_16</th>\n",
       "      <th>C_17</th>\n",
       "    </tr>\n",
       "  </thead>\n",
       "  <tbody>\n",
       "    <tr>\n",
       "      <th>0</th>\n",
       "      <td>0.099730</td>\n",
       "      <td>0.136110</td>\n",
       "      <td>-0.018556</td>\n",
       "      <td>0.208990</td>\n",
       "      <td>0.312663</td>\n",
       "      <td>0.267166</td>\n",
       "      <td>0.110164</td>\n",
       "      <td>-0.207783</td>\n",
       "      <td>-0.024021</td>\n",
       "      <td>0.211596</td>\n",
       "      <td>-0.303846</td>\n",
       "      <td>-0.021897</td>\n",
       "      <td>-0.142889</td>\n",
       "      <td>0.139794</td>\n",
       "      <td>0.042949</td>\n",
       "      <td>-0.393919</td>\n",
       "      <td>0.189303</td>\n",
       "    </tr>\n",
       "    <tr>\n",
       "      <th>1</th>\n",
       "      <td>0.519657</td>\n",
       "      <td>0.110189</td>\n",
       "      <td>-0.035904</td>\n",
       "      <td>-0.017302</td>\n",
       "      <td>0.204378</td>\n",
       "      <td>-0.044963</td>\n",
       "      <td>-0.182339</td>\n",
       "      <td>-0.270452</td>\n",
       "      <td>0.105120</td>\n",
       "      <td>-0.165094</td>\n",
       "      <td>0.058998</td>\n",
       "      <td>-0.030199</td>\n",
       "      <td>0.041474</td>\n",
       "      <td>-0.003252</td>\n",
       "      <td>0.170862</td>\n",
       "      <td>-0.021255</td>\n",
       "      <td>0.302884</td>\n",
       "    </tr>\n",
       "    <tr>\n",
       "      <th>2</th>\n",
       "      <td>-0.284677</td>\n",
       "      <td>-0.090475</td>\n",
       "      <td>0.220307</td>\n",
       "      <td>-0.499729</td>\n",
       "      <td>0.010151</td>\n",
       "      <td>-0.083517</td>\n",
       "      <td>0.280703</td>\n",
       "      <td>-0.256395</td>\n",
       "      <td>0.154083</td>\n",
       "      <td>-0.295314</td>\n",
       "      <td>0.111428</td>\n",
       "      <td>-0.185483</td>\n",
       "      <td>0.290365</td>\n",
       "      <td>0.214002</td>\n",
       "      <td>0.283573</td>\n",
       "      <td>0.038344</td>\n",
       "      <td>-0.238936</td>\n",
       "    </tr>\n",
       "  </tbody>\n",
       "</table>\n",
       "</div>"
      ],
      "text/plain": [
       "        C_1       C_2       C_3       C_4       C_5       C_6       C_7  \\\n",
       "0  0.099730  0.136110 -0.018556  0.208990  0.312663  0.267166  0.110164   \n",
       "1  0.519657  0.110189 -0.035904 -0.017302  0.204378 -0.044963 -0.182339   \n",
       "2 -0.284677 -0.090475  0.220307 -0.499729  0.010151 -0.083517  0.280703   \n",
       "\n",
       "        C_8       C_9      C_10      C_11      C_12      C_13      C_14  \\\n",
       "0 -0.207783 -0.024021  0.211596 -0.303846 -0.021897 -0.142889  0.139794   \n",
       "1 -0.270452  0.105120 -0.165094  0.058998 -0.030199  0.041474 -0.003252   \n",
       "2 -0.256395  0.154083 -0.295314  0.111428 -0.185483  0.290365  0.214002   \n",
       "\n",
       "       C_15      C_16      C_17  \n",
       "0  0.042949 -0.393919  0.189303  \n",
       "1  0.170862 -0.021255  0.302884  \n",
       "2  0.283573  0.038344 -0.238936  "
      ]
     },
     "execution_count": 42,
     "metadata": {},
     "output_type": "execute_result"
    }
   ],
   "source": [
    "# Drop the last 3 Principal components\n",
    "pca2 = PCA(n_components=17)\n",
    "X_train_pca = pd.DataFrame(pca2.fit_transform(X_train_fs), columns=[f\"C_{i+1}\" for i in range(0, 17)])\n",
    "print(f\"Explained variance from first 17 Principal Components: {sum(pca2.explained_variance_ratio_)}\")\n",
    "X_final_test_pca = pd.DataFrame(pca2.transform(X_final_test[list(feat_to_keep)]), columns=[f\"C_{i+1}\" for i in range(0, 17)])\n",
    "\n",
    "X_train_pca.head(3)"
   ]
  },
  {
   "cell_type": "markdown",
   "metadata": {},
   "source": [
    "### Model selection with nested CV\n",
    "\n",
    "**!! Only two models and few hyperparameters tested, because there are too many datapoints and the training is too slow**"
   ]
  },
  {
   "cell_type": "code",
   "execution_count": 45,
   "metadata": {},
   "outputs": [
    {
     "data": {
      "text/html": [
       "<div>\n",
       "<style scoped>\n",
       "    .dataframe tbody tr th:only-of-type {\n",
       "        vertical-align: middle;\n",
       "    }\n",
       "\n",
       "    .dataframe tbody tr th {\n",
       "        vertical-align: top;\n",
       "    }\n",
       "\n",
       "    .dataframe thead th {\n",
       "        text-align: right;\n",
       "    }\n",
       "</style>\n",
       "<table border=\"1\" class=\"dataframe\">\n",
       "  <thead>\n",
       "    <tr style=\"text-align: right;\">\n",
       "      <th></th>\n",
       "      <th>LDA</th>\n",
       "      <th>RandomForest</th>\n",
       "    </tr>\n",
       "  </thead>\n",
       "  <tbody>\n",
       "    <tr>\n",
       "      <th>OuterCV_average_Score%</th>\n",
       "      <td>71.180798</td>\n",
       "      <td>69.605887</td>\n",
       "    </tr>\n",
       "    <tr>\n",
       "      <th>OuterCV_std%</th>\n",
       "      <td>0.494157</td>\n",
       "      <td>0.413679</td>\n",
       "    </tr>\n",
       "  </tbody>\n",
       "</table>\n",
       "</div>"
      ],
      "text/plain": [
       "                              LDA  RandomForest\n",
       "OuterCV_average_Score%  71.180798     69.605887\n",
       "OuterCV_std%             0.494157      0.413679"
      ]
     },
     "execution_count": 45,
     "metadata": {},
     "output_type": "execute_result"
    }
   ],
   "source": [
    "# Using the functions defined in the file AG_nested_CrossVal.py\n",
    "from AG_nested_CrossVal import inner_CV_setup, nestedCV_model_selection, final_tuning\n",
    "\n",
    "list_models = [RandomForestClassifier(), LinearDiscriminantAnalysis()]  \n",
    "# KNeighborsClassifier(), BaggingClassifier(), LogisticRegression(), SVC(kernel=\"rbf\")\n",
    "\n",
    "param_grids = [{\"n_estimators\": [100], \"max_depth\": [50, None]}, {\"shrinkage\": [None]}]  # \"criterion\": [\"gini\", \"entropy\"]\n",
    "# {\"n_neighbors\": [10, 50, 100], \"weights\": ['uniform', 'distance']}, {\"n_estimators\": [30, 50, 100, 150], \"max_features\": [0.5, 0.75, 1.0]}, {\"C\": [0.1, 0.5, 1, 2, 5]}, {\"C\": [0.1, 0.5, 1, 2, 5], \"gamma\": [\"scale\", \"auto\"]}\n",
    "\n",
    "mod_names = (\"RandomForest\", \"LDA\") # \"kNN\", \"BaggingTrees\", \"LogReg\", \"SVC\"\n",
    "\n",
    "# prepare the inner cv (stratifiedKfold and GridSearchCV for inner CV)\n",
    "dict_CVgrids = inner_CV_setup(list_models, param_grids, mod_names, 3, scoring_metric=\"roc_auc\", seed=33)\n",
    "\n",
    "# perform nested CV (stratifiedKfold for outer CV)\n",
    "nestedCV_results = nestedCV_model_selection(dict_CVgrids, 3, X_train_pca, y_train, scoring_metric=\"roc_auc\", seed=22)\n",
    "nestedCV_results"
   ]
  },
  {
   "cell_type": "markdown",
   "metadata": {},
   "source": [
    "### Final evaluation for the best model & training for production"
   ]
  },
  {
   "cell_type": "code",
   "execution_count": 46,
   "metadata": {},
   "outputs": [
    {
     "name": "stdout",
     "output_type": "stream",
     "text": [
      "Best model with tuned hyperparameters: LinearDiscriminantAnalysis()\n"
     ]
    }
   ],
   "source": [
    "# Identify best model\n",
    "best_model = LinearDiscriminantAnalysis()\n",
    "best_grid = {\"shrinkage\": [None]}\n",
    "\n",
    "# final hyperparams tuning\n",
    "best_mod_tuned = final_tuning(best_model, best_grid, 4, X_train_pca, y_train, scoring_metric=\"roc_auc\", seed=11)  # stratifiedKfold and GridSearchCV\n",
    "print(f\"Best model with tuned hyperparameters: {best_mod_tuned}\")"
   ]
  },
  {
   "cell_type": "code",
   "execution_count": 47,
   "metadata": {},
   "outputs": [
    {
     "name": "stdout",
     "output_type": "stream",
     "text": [
      "              precision    recall  f1-score   support\n",
      "\n",
      "           0       0.67      0.65      0.66     11220\n",
      "           1       0.66      0.68      0.67     11280\n",
      "\n",
      "    accuracy                           0.67     22500\n",
      "   macro avg       0.67      0.67      0.67     22500\n",
      "weighted avg       0.67      0.67      0.67     22500\n",
      "\n"
     ]
    }
   ],
   "source": [
    "# Final evaluation for best tuned models\n",
    "best_mod_tuned.fit(X_train_pca, y_train)\n",
    "predictions = best_mod_tuned.predict(X_final_test_pca)\n",
    "print(classification_report(y_final_test, predictions))"
   ]
  },
  {
   "cell_type": "code",
   "execution_count": 48,
   "metadata": {},
   "outputs": [
    {
     "data": {
      "image/png": "[encoded data removed]",
      "text/plain": [
       "<Figure size 432x288 with 1 Axes>"
      ]
     },
     "metadata": {},
     "output_type": "display_data"
    }
   ],
   "source": [
    "plot_roc_curve(best_mod_tuned, X_final_test_pca, y_final_test);"
   ]
  },
  {
   "cell_type": "code",
   "execution_count": 50,
   "metadata": {},
   "outputs": [],
   "source": [
    "# Model for production\n",
    "# All dataset with only selected features\n",
    "X_all = X[list(feat_to_keep)]\n",
    "# scale\n",
    "X_all = pd.DataFrame(scaler.fit_transform(X_all), columns=X_all.columns) \n",
    "# apply pca (see pca2 above)\n",
    "X_all_pca = pca2.fit_transform(X_all)\n",
    "model_prod = best_mod_tuned.fit(X_all_pca, y)"
   ]
  }
 ],
 "metadata": {
  "interpreter": {
   "hash": "ecdf108b986fec06f7876a2b77fffab883fa2c721c4866b9970845870539861b"
  },
  "kernelspec": {
   "display_name": "Python 3.7.4 64-bit ('base': conda)",
   "language": "python",
   "name": "python3"
  },
  "language_info": {
   "codemirror_mode": {
    "name": "ipython",
    "version": 3
   },
   "file_extension": ".py",
   "mimetype": "text/x-python",
   "name": "python",
   "nbconvert_exporter": "python",
   "pygments_lexer": "ipython3",
   "version": "3.7.4"
  },
  "orig_nbformat": 4
 },
 "nbformat": 4,
 "nbformat_minor": 2
}
